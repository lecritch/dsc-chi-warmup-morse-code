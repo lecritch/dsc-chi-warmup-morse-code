{
 "cells": [
  {
   "cell_type": "markdown",
   "metadata": {},
   "source": [
    "# Decode Morse Code"
   ]
  },
  {
   "cell_type": "markdown",
   "metadata": {},
   "source": [
    "This morning we will be writing a function to translate a poem that has been encoded with morse code."
   ]
  },
  {
   "cell_type": "markdown",
   "metadata": {},
   "source": [
    "![](https://media.giphy.com/media/4AUH1t6ccRfhe/giphy.gif)"
   ]
  },
  {
   "cell_type": "markdown",
   "metadata": {},
   "source": [
    "**Import modules**"
   ]
  },
  {
   "cell_type": "code",
   "execution_count": 1,
   "metadata": {
    "ExecuteTime": {
     "end_time": "2020-06-21T20:45:53.262128Z",
     "start_time": "2020-06-21T20:45:52.848927Z"
    }
   },
   "outputs": [],
   "source": [
    "# os is used to create file paths\n",
    "import os\n",
    "# pickle is used to import data files\n",
    "import pickle\n",
    "# test package\n",
    "from test_scripts.test_class import Test"
   ]
  },
  {
   "cell_type": "markdown",
   "metadata": {},
   "source": [
    "**In the cell below, we import the encoded poem.**"
   ]
  },
  {
   "cell_type": "code",
   "execution_count": 2,
   "metadata": {
    "ExecuteTime": {
     "end_time": "2020-06-21T18:37:33.416032Z",
     "start_time": "2020-06-21T18:37:33.411384Z"
    }
   },
   "outputs": [],
   "source": [
    "path_to_poem = os.path.join('data', 'morseCode.pkl')\n",
    "with open(path_to_poem, 'rb') as file:\n",
    "    data = pickle.load(file)"
   ]
  },
  {
   "cell_type": "markdown",
   "metadata": {
    "ExecuteTime": {
     "end_time": "2020-06-21T17:54:08.782986Z",
     "start_time": "2020-06-21T17:54:08.777809Z"
    }
   },
   "source": [
    "**Let's take a look at the first line of the poem**"
   ]
  },
  {
   "cell_type": "code",
   "execution_count": 3,
   "metadata": {
    "ExecuteTime": {
     "end_time": "2020-06-21T18:37:35.182483Z",
     "start_time": "2020-06-21T18:37:35.172637Z"
    }
   },
   "outputs": [
    {
     "data": {
      "text/plain": [
       "'- .... ./--.. . -./--- ..-./.--. -.-- - .... --- -. --..--/-... -.--/- .. --/.--. . - . .-. .../'"
      ]
     },
     "execution_count": 3,
     "metadata": {},
     "output_type": "execute_result"
    }
   ],
   "source": [
    "data[0]"
   ]
  },
  {
   "cell_type": "markdown",
   "metadata": {},
   "source": [
    "**A dictionary of morse code mapping is imported below.**"
   ]
  },
  {
   "cell_type": "code",
   "execution_count": 4,
   "metadata": {
    "ExecuteTime": {
     "end_time": "2020-06-21T18:37:37.285990Z",
     "start_time": "2020-06-21T18:37:37.281457Z"
    }
   },
   "outputs": [
    {
     "name": "stdout",
     "output_type": "stream",
     "text": [
      "{'.-': 'A', '-...': 'B', '-.-.': 'C', '-..': 'D', '.': 'E', '..-.': 'F', '--.': 'G', '....': 'H', '..': 'I', '.---': 'J', '-.-': 'K', '.-..': 'L', '--': 'M', '-.': 'N', '---': 'O', '.--.': 'P', '--.-': 'Q', '.-.': 'R', '...': 'S', '-': 'T', '..-': 'U', '...-': 'V', '.--': 'W', '-..-': 'X', '-.--': 'Y', '--..': 'Z', '.----': '1', '..---': '2', '...--': '3', '....-': '4', '.....': '5', '-....': '6', '--...': '7', '---..': '8', '----.': '9', '-----': '0', '--..--': ',', '.-.-.-': '.', '..--..': '?', '-..-.': '/', '-....-': '-', '-.--.': '(', '-.--.-': ')', '-.-.--': '!', '.----.': \"'\", '---...': ':', '.-...': '&'}\n"
     ]
    }
   ],
   "source": [
    "# Import decode dictionary\n",
    "decode_path = os.path.join('data', 'morseMappings.pkl')\n",
    "with open(decode_path, 'rb') as file:\n",
    "    decode = pickle.load(file)\n",
    "\n",
    "print(decode)"
   ]
  },
  {
   "cell_type": "markdown",
   "metadata": {},
   "source": [
    "**The keys of this dictionary are morse code and the values are english characters.**\n",
    "\n",
    "To translate the poem, we simply have to feed each encoded letter into the dictionary as a key, and we will receive their decoded values.\n",
    "\n",
    "*Important information:*\n",
    "\n",
    ">The encoded poem uses a forward slash ```'/'``` to seperate words and a space ```' '``` to seperate each letter.\n",
    "\n",
    "Using the ```decode``` dictionary, please build a function that can translate the poem from morse code to english sentences.\n",
    "\n",
    "<u>To do this, the function should:</u>\n",
    "1. Receive a single encoded string called ```morse_code```.\n",
    "2. Split the encoded string using ```'/'``` as a seperator.\n",
    "3. Loop over the list of encoded words.\n",
    "4. Split a given word using ```' '``` as a seperator.\n",
    "5. Loop over each letter in a given word.\n",
    "6. Feed the letter into the ```decode``` dictionary as a key.\n",
    "7. Append each decoded word to a string with spaces between each word\n",
    "8. No spaces should be present at the beginning or the end of a decoded sentence. "
   ]
  },
  {
   "cell_type": "code",
   "execution_count": 10,
   "metadata": {},
   "outputs": [],
   "source": [
    "hello = 'h e/l l/o o'"
   ]
  },
  {
   "cell_type": "code",
   "execution_count": 11,
   "metadata": {},
   "outputs": [
    {
     "data": {
      "text/plain": [
       "['h e', 'l l', 'o o']"
      ]
     },
     "execution_count": 11,
     "metadata": {},
     "output_type": "execute_result"
    }
   ],
   "source": [
    "hello.split('/')"
   ]
  },
  {
   "cell_type": "code",
   "execution_count": 12,
   "metadata": {},
   "outputs": [
    {
     "data": {
      "text/plain": [
       "'h e/l l/o o'"
      ]
     },
     "execution_count": 12,
     "metadata": {},
     "output_type": "execute_result"
    }
   ],
   "source": [
    "hello"
   ]
  },
  {
   "cell_type": "code",
   "execution_count": 13,
   "metadata": {},
   "outputs": [],
   "source": [
    "splt = hello.split('/')"
   ]
  },
  {
   "cell_type": "code",
   "execution_count": 14,
   "metadata": {},
   "outputs": [
    {
     "data": {
      "text/plain": [
       "['h e', 'l l', 'o o']"
      ]
     },
     "execution_count": 14,
     "metadata": {},
     "output_type": "execute_result"
    }
   ],
   "source": [
    "splt"
   ]
  },
  {
   "cell_type": "code",
   "execution_count": 15,
   "metadata": {},
   "outputs": [],
   "source": [
    "poem = ''"
   ]
  },
  {
   "cell_type": "code",
   "execution_count": 18,
   "metadata": {},
   "outputs": [],
   "source": [
    "poem += 'hey'"
   ]
  },
  {
   "cell_type": "code",
   "execution_count": 20,
   "metadata": {},
   "outputs": [],
   "source": [
    "poem += 'you'"
   ]
  },
  {
   "cell_type": "code",
   "execution_count": 21,
   "metadata": {},
   "outputs": [
    {
     "data": {
      "text/plain": [
       "'heyyou'"
      ]
     },
     "execution_count": 21,
     "metadata": {},
     "output_type": "execute_result"
    }
   ],
   "source": [
    "poem"
   ]
  },
  {
   "cell_type": "code",
   "execution_count": 24,
   "metadata": {},
   "outputs": [
    {
     "data": {
      "text/plain": [
       "'A'"
      ]
     },
     "execution_count": 24,
     "metadata": {},
     "output_type": "execute_result"
    }
   ],
   "source": [
    "decode['.-']"
   ]
  },
  {
   "cell_type": "code",
   "execution_count": 25,
   "metadata": {},
   "outputs": [
    {
     "data": {
      "text/plain": [
       "'A'"
      ]
     },
     "execution_count": 25,
     "metadata": {},
     "output_type": "execute_result"
    }
   ],
   "source": [
    "letter = '.-'\n",
    "decode[letter]"
   ]
  },
  {
   "cell_type": "code",
   "execution_count": 26,
   "metadata": {},
   "outputs": [],
   "source": [
    "# Your code here\n",
    "## I need to add something to catch potential erros\n",
    "def decode_morse(morse_code):\n",
    "    # create empty poem to add to\n",
    "    poem = ''\n",
    "    words = morse_code.split('/')\n",
    "    for word in words:\n",
    "        # create new empty word to add to\n",
    "        word = ''\n",
    "        # split word up into letters\n",
    "        letters = word.split(' ')\n",
    "        for letter in letters:\n",
    "            word += decode[letter]\n",
    "        word += ' '\n",
    "        poem += word\n",
    "    return poem\n",
    "        "
   ]
  },
  {
   "cell_type": "code",
   "execution_count": null,
   "metadata": {},
   "outputs": [],
   "source": [
    "# their solution:\n",
    "def decode_morse(morse_code):\n",
    "    '''\n",
    "    Receives a string that has been encoded with morse code\n",
    "        \"/\" is used to seperate each word\n",
    "        \" \" is used to seperate each letter\n",
    "    Using a global ```decode``` dictionary,\n",
    "    the morse is mapped to English letters punctuation and numbers.'''\n",
    "    # List for collecting characters that could\n",
    "    # not be tranlated\n",
    "    errors = []\n",
    "    # Create an empty string to append each word to\n",
    "    decoded = ''\n",
    "    # Create a list of encoded words\n",
    "    words = morse_code.split('/')\n",
    "    # Loop over each word\n",
    "    for word in words:\n",
    "        # Create a list of letters for a given word\n",
    "        letters = word.split()\n",
    "        # Number of letters to be used\n",
    "        # for iterating over index and \n",
    "        # checking if we are on the final iteration\n",
    "        length = len(letters)\n",
    "        # Loop over index\n",
    "        for idx in range(length):\n",
    "            letter = letters[idx]\n",
    "            # Ensure the letter\n",
    "            # can be translated\n",
    "            if letter in decode.keys():\n",
    "                # Add decoded letter to decoded string\n",
    "                decoded += decode[letter]\n",
    "            else:\n",
    "                # Append characters missing from our\n",
    "                # translation data to an errors list\n",
    "                errors.append(letter)\n",
    "            # If we are tranlsating the final letter in a word,\n",
    "            # We add the decoded letter followed by a space.\n",
    "            if idx == length - 1:\n",
    "                decoded += ' '\n",
    "    # The .strip method removes erroneous errors at the beginning\n",
    "    # and end of a string.\n",
    "    decoded = decoded.strip()\n",
    "    # If there are errors, we print them out. \n",
    "    if len(errors) > 0:\n",
    "        print('The following characters could not be translated:',errors)\n",
    "    return decoded"
   ]
  },
  {
   "cell_type": "markdown",
   "metadata": {},
   "source": [
    "<u><b>Run the cell below to test your function!</b></u>"
   ]
  },
  {
   "cell_type": "code",
   "execution_count": 23,
   "metadata": {
    "ExecuteTime": {
     "end_time": "2020-06-21T18:41:54.324404Z",
     "start_time": "2020-06-21T18:41:54.319444Z"
    }
   },
   "outputs": [
    {
     "ename": "KeyError",
     "evalue": "''",
     "output_type": "error",
     "traceback": [
      "\u001b[0;31m---------------------------------------------------------------------------\u001b[0m",
      "\u001b[0;31mKeyError\u001b[0m                                  Traceback (most recent call last)",
      "\u001b[0;32m<ipython-input-23-7cb14241edc4>\u001b[0m in \u001b[0;36m<module>\u001b[0;34m\u001b[0m\n\u001b[1;32m      1\u001b[0m \u001b[0mtest\u001b[0m \u001b[0;34m=\u001b[0m \u001b[0mTest\u001b[0m\u001b[0;34m(\u001b[0m\u001b[0;34m)\u001b[0m\u001b[0;34m\u001b[0m\u001b[0;34m\u001b[0m\u001b[0m\n\u001b[0;32m----> 2\u001b[0;31m \u001b[0mpoem\u001b[0m \u001b[0;34m=\u001b[0m \u001b[0;34m[\u001b[0m\u001b[0mdecode_morse\u001b[0m\u001b[0;34m(\u001b[0m\u001b[0mline\u001b[0m\u001b[0;34m)\u001b[0m \u001b[0;32mfor\u001b[0m \u001b[0mline\u001b[0m \u001b[0;32min\u001b[0m \u001b[0mdata\u001b[0m\u001b[0;34m]\u001b[0m\u001b[0;34m\u001b[0m\u001b[0;34m\u001b[0m\u001b[0m\n\u001b[0m\u001b[1;32m      3\u001b[0m \u001b[0mtest\u001b[0m\u001b[0;34m.\u001b[0m\u001b[0mrun_test\u001b[0m\u001b[0;34m(\u001b[0m\u001b[0mpoem\u001b[0m\u001b[0;34m,\u001b[0m \u001b[0;34m'poem'\u001b[0m\u001b[0;34m)\u001b[0m\u001b[0;34m\u001b[0m\u001b[0;34m\u001b[0m\u001b[0m\n",
      "\u001b[0;32m<ipython-input-23-7cb14241edc4>\u001b[0m in \u001b[0;36m<listcomp>\u001b[0;34m(.0)\u001b[0m\n\u001b[1;32m      1\u001b[0m \u001b[0mtest\u001b[0m \u001b[0;34m=\u001b[0m \u001b[0mTest\u001b[0m\u001b[0;34m(\u001b[0m\u001b[0;34m)\u001b[0m\u001b[0;34m\u001b[0m\u001b[0;34m\u001b[0m\u001b[0m\n\u001b[0;32m----> 2\u001b[0;31m \u001b[0mpoem\u001b[0m \u001b[0;34m=\u001b[0m \u001b[0;34m[\u001b[0m\u001b[0mdecode_morse\u001b[0m\u001b[0;34m(\u001b[0m\u001b[0mline\u001b[0m\u001b[0;34m)\u001b[0m \u001b[0;32mfor\u001b[0m \u001b[0mline\u001b[0m \u001b[0;32min\u001b[0m \u001b[0mdata\u001b[0m\u001b[0;34m]\u001b[0m\u001b[0;34m\u001b[0m\u001b[0;34m\u001b[0m\u001b[0m\n\u001b[0m\u001b[1;32m      3\u001b[0m \u001b[0mtest\u001b[0m\u001b[0;34m.\u001b[0m\u001b[0mrun_test\u001b[0m\u001b[0;34m(\u001b[0m\u001b[0mpoem\u001b[0m\u001b[0;34m,\u001b[0m \u001b[0;34m'poem'\u001b[0m\u001b[0;34m)\u001b[0m\u001b[0;34m\u001b[0m\u001b[0;34m\u001b[0m\u001b[0m\n",
      "\u001b[0;32m<ipython-input-22-e300a87e894a>\u001b[0m in \u001b[0;36mdecode_morse\u001b[0;34m(morse_code)\u001b[0m\n\u001b[1;32m     10\u001b[0m         \u001b[0mletters\u001b[0m \u001b[0;34m=\u001b[0m \u001b[0mword\u001b[0m\u001b[0;34m.\u001b[0m\u001b[0msplit\u001b[0m\u001b[0;34m(\u001b[0m\u001b[0;34m' '\u001b[0m\u001b[0;34m)\u001b[0m\u001b[0;34m\u001b[0m\u001b[0;34m\u001b[0m\u001b[0m\n\u001b[1;32m     11\u001b[0m         \u001b[0;32mfor\u001b[0m \u001b[0mletter\u001b[0m \u001b[0;32min\u001b[0m \u001b[0mletters\u001b[0m\u001b[0;34m:\u001b[0m\u001b[0;34m\u001b[0m\u001b[0;34m\u001b[0m\u001b[0m\n\u001b[0;32m---> 12\u001b[0;31m             \u001b[0mword\u001b[0m \u001b[0;34m+=\u001b[0m \u001b[0mdecode\u001b[0m\u001b[0;34m[\u001b[0m\u001b[0mletter\u001b[0m\u001b[0;34m]\u001b[0m\u001b[0;34m\u001b[0m\u001b[0;34m\u001b[0m\u001b[0m\n\u001b[0m\u001b[1;32m     13\u001b[0m         \u001b[0mword\u001b[0m \u001b[0;34m+=\u001b[0m \u001b[0;34m' '\u001b[0m\u001b[0;34m\u001b[0m\u001b[0;34m\u001b[0m\u001b[0m\n\u001b[1;32m     14\u001b[0m         \u001b[0mpoem\u001b[0m \u001b[0;34m+=\u001b[0m \u001b[0mword\u001b[0m\u001b[0;34m\u001b[0m\u001b[0;34m\u001b[0m\u001b[0m\n",
      "\u001b[0;31mKeyError\u001b[0m: ''"
     ]
    }
   ],
   "source": [
    "test = Test()\n",
    "poem = [decode_morse(line) for line in data]\n",
    "test.run_test(poem, 'poem')"
   ]
  },
  {
   "cell_type": "markdown",
   "metadata": {},
   "source": [
    "### Now, let's test our function against the entire play ```The Tragedy of Julius Caesar```"
   ]
  },
  {
   "cell_type": "code",
   "execution_count": null,
   "metadata": {
    "ExecuteTime": {
     "end_time": "2020-06-21T20:36:09.498289Z",
     "start_time": "2020-06-21T20:36:09.443756Z"
    }
   },
   "outputs": [],
   "source": [
    "# Import encoded data\n",
    "caesar_path = os.path.join('data', 'juliusCaesarEncoded.pkl')\n",
    "with open(caesar_path, 'rb') as file:\n",
    "    caesar = pickle.load(file)\n",
    "    \n",
    "# Run our function on every line of the play\n",
    "caesar_decoded = [decode_morse(line) for line in caesar]\n",
    "\n",
    "# Test the results!\n",
    "test.run_test(caesar_decoded, 'caesar')"
   ]
  },
  {
   "cell_type": "markdown",
   "metadata": {
    "ExecuteTime": {
     "end_time": "2020-02-28T22:50:42.727864Z",
     "start_time": "2020-02-28T22:50:42.724984Z"
    }
   },
   "source": [
    "# Enjoy Mod 3 :)"
   ]
  },
  {
   "cell_type": "markdown",
   "metadata": {},
   "source": [
    "![](https://media.giphy.com/media/vzO0Vc8b2VBLi/giphy.gif)"
   ]
  },
  {
   "cell_type": "code",
   "execution_count": null,
   "metadata": {},
   "outputs": [],
   "source": []
  }
 ],
 "metadata": {
  "hide_input": false,
  "kernelspec": {
   "display_name": "Python 3",
   "language": "python",
   "name": "python3"
  },
  "language_info": {
   "codemirror_mode": {
    "name": "ipython",
    "version": 3
   },
   "file_extension": ".py",
   "mimetype": "text/x-python",
   "name": "python",
   "nbconvert_exporter": "python",
   "pygments_lexer": "ipython3",
   "version": "3.6.9"
  },
  "toc": {
   "base_numbering": 1,
   "nav_menu": {},
   "number_sections": true,
   "sideBar": true,
   "skip_h1_title": false,
   "title_cell": "Table of Contents",
   "title_sidebar": "Contents",
   "toc_cell": false,
   "toc_position": {},
   "toc_section_display": true,
   "toc_window_display": false
  },
  "varInspector": {
   "cols": {
    "lenName": 16,
    "lenType": 16,
    "lenVar": 40
   },
   "kernels_config": {
    "python": {
     "delete_cmd_postfix": "",
     "delete_cmd_prefix": "del ",
     "library": "var_list.py",
     "varRefreshCmd": "print(var_dic_list())"
    },
    "r": {
     "delete_cmd_postfix": ") ",
     "delete_cmd_prefix": "rm(",
     "library": "var_list.r",
     "varRefreshCmd": "cat(var_dic_list()) "
    }
   },
   "types_to_exclude": [
    "module",
    "function",
    "builtin_function_or_method",
    "instance",
    "_Feature"
   ],
   "window_display": false
  }
 },
 "nbformat": 4,
 "nbformat_minor": 4
}
